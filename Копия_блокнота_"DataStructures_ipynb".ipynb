{
  "nbformat": 4,
  "nbformat_minor": 0,
  "metadata": {
    "colab": {
      "provenance": [],
      "include_colab_link": true
    },
    "kernelspec": {
      "name": "python3",
      "display_name": "Python 3"
    },
    "language_info": {
      "name": "python"
    }
  },
  "cells": [
    {
      "cell_type": "markdown",
      "metadata": {
        "id": "view-in-github",
        "colab_type": "text"
      },
      "source": [
        "<a href=\"https://colab.research.google.com/github/DippyDingo/homework/blob/main/%D0%9A%D0%BE%D0%BF%D0%B8%D1%8F_%D0%B1%D0%BB%D0%BE%D0%BA%D0%BD%D0%BE%D1%82%D0%B0_%22DataStructures_ipynb%22.ipynb\" target=\"_parent\"><img src=\"https://colab.research.google.com/assets/colab-badge.svg\" alt=\"Open In Colab\"/></a>"
      ]
    },
    {
      "cell_type": "code",
      "metadata": {
        "id": "9Ief_V7CfqnT",
        "colab": {
          "base_uri": "https://localhost:8080/"
        },
        "outputId": "72da5785-453f-4574-ba45-c4b81ed8decd"
      },
      "source": [
        "# списки\n",
        "\n",
        "my_list = [\"Hello\", 100, True]\n",
        "for value in my_list:\n",
        "  print(value)\n"
      ],
      "execution_count": null,
      "outputs": [
        {
          "output_type": "stream",
          "name": "stdout",
          "text": [
            "Hello\n",
            "100\n",
            "True\n"
          ]
        }
      ]
    },
    {
      "cell_type": "code",
      "metadata": {
        "id": "ebmvx9nff-cI",
        "colab": {
          "base_uri": "https://localhost:8080/"
        },
        "outputId": "873949a3-6ab7-4801-cd90-1b1a324969a9"
      },
      "source": [
        "# кортежи\n",
        "\n",
        "tuple_1 = (1, 2, 3, 'hello', 4.5)\n",
        "tuple_2 = (1, 2, 4, 5, 'bay')\n",
        "combined =  (tuple_1 + tuple_2) * 2\n",
        "for value in combined:\n",
        "  print(value)"
      ],
      "execution_count": null,
      "outputs": [
        {
          "output_type": "stream",
          "name": "stdout",
          "text": [
            "1\n",
            "2\n",
            "3\n",
            "hello\n",
            "4.5\n",
            "1\n",
            "2\n",
            "4\n",
            "5\n",
            "bay\n",
            "1\n",
            "2\n",
            "3\n",
            "hello\n",
            "4.5\n",
            "1\n",
            "2\n",
            "4\n",
            "5\n",
            "bay\n"
          ]
        }
      ]
    },
    {
      "cell_type": "code",
      "metadata": {
        "id": "KvbYY_HlgCJX",
        "colab": {
          "base_uri": "https://localhost:8080/"
        },
        "outputId": "20e92595-4198-424e-9692-4089bcd02a75"
      },
      "source": [
        "# множества\n",
        "set1 = {1, 2, 3}\n",
        "set2 = {3, 4, 5}\n",
        "\n",
        "# Объединение\n",
        "union1 = set1 | set2\n",
        "union2 = set1.union(set2)\n",
        "print(union1)\n",
        "print(union2)\n",
        "# Пересечение\n",
        "intersection1 = set1 & set2\n",
        "intersection2 = set1.intersection(set2)\n",
        "print(intersection1)\n",
        "print(intersection2)\n",
        "# Разность\n",
        "difference1 = set1 - set2\n",
        "difference2= set1.difference(set2)\n",
        "print(difference1)\n",
        "print(difference2)\n",
        "# Симметрическая разность\n",
        "symmetric_difference1 = set1 ^ set2\n",
        "symmetric_difference2 = set1.symmetric_difference(set2)\n",
        "print(symmetric_difference1)\n",
        "print(symmetric_difference2)"
      ],
      "execution_count": null,
      "outputs": [
        {
          "output_type": "stream",
          "name": "stdout",
          "text": [
            "{1, 2, 3, 4, 5}\n",
            "{1, 2, 3, 4, 5}\n",
            "{3}\n",
            "{3}\n",
            "{1, 2}\n",
            "{1, 2}\n",
            "{1, 2, 4, 5}\n",
            "{1, 2, 4, 5}\n"
          ]
        }
      ]
    },
    {
      "cell_type": "code",
      "metadata": {
        "id": "UYKA69oMgEQV",
        "colab": {
          "base_uri": "https://localhost:8080/"
        },
        "outputId": "8dce9f65-2eea-499e-a5cd-ad44d7136f71"
      },
      "source": [
        "# словари\n",
        "# Словарь с элементами\n",
        "dict_1 = {\n",
        "    'name': 'Alice',\n",
        "    'age': 30,\n",
        "    'city': 'New York'\n",
        "}\n",
        "\n",
        "# Альтернативный способ создания словаря\n",
        "dict_2 = dict(name='Alice', age=30, city='New York')\n",
        "print(dict_1)\n",
        "print(dict_2)\n",
        "# Получение всех ключей\n",
        "keys = dict_1.keys()\n",
        "print(keys)\n",
        "# Получение всех значений\n",
        "values = dict_1.values()\n",
        "print(values)\n",
        "# Получение всех пар \"ключ-значение\"\n",
        "items = dict_1.items()\n",
        "print(items)\n",
        "# Использование метода get\n",
        "age = dict_1.get('age')  # 31\n",
        "non_existent = dict_1.get('non_existent_key', 'Not Found')  # 'Not Found'\n",
        "print(age)\n",
        "print(non_existent)"
      ],
      "execution_count": null,
      "outputs": [
        {
          "output_type": "stream",
          "name": "stdout",
          "text": [
            "{'name': 'Alice', 'age': 30, 'city': 'New York'}\n",
            "{'name': 'Alice', 'age': 30, 'city': 'New York'}\n",
            "dict_keys(['name', 'age', 'city'])\n",
            "dict_values(['Alice', 30, 'New York'])\n",
            "dict_items([('name', 'Alice'), ('age', 30), ('city', 'New York')])\n",
            "30\n",
            "Not Found\n"
          ]
        }
      ]
    },
    {
      "cell_type": "code",
      "source": [],
      "metadata": {
        "id": "BctgEaSTW-D7"
      },
      "execution_count": null,
      "outputs": []
    }
  ]
}