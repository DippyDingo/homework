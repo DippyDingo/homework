{
  "nbformat": 4,
  "nbformat_minor": 0,
  "metadata": {
    "colab": {
      "provenance": [],
      "include_colab_link": true
    },
    "kernelspec": {
      "name": "python3",
      "display_name": "Python 3"
    },
    "language_info": {
      "name": "python"
    }
  },
  "cells": [
    {
      "cell_type": "markdown",
      "metadata": {
        "id": "view-in-github",
        "colab_type": "text"
      },
      "source": [
        "<a href=\"https://colab.research.google.com/github/DippyDingo/homework/blob/main/%D0%9A%D0%BE%D0%BF%D0%B8%D1%8F_%D0%B1%D0%BB%D0%BE%D0%BA%D0%BD%D0%BE%D1%82%D0%B0_%22Functions_ipynb%22.ipynb\" target=\"_parent\"><img src=\"https://colab.research.google.com/assets/colab-badge.svg\" alt=\"Open In Colab\"/></a>"
      ]
    },
    {
      "cell_type": "code",
      "metadata": {
        "id": "y_lW0DmZZOb2",
        "colab": {
          "base_uri": "https://localhost:8080/"
        },
        "outputId": "48d15fef-eec0-49fa-94d6-0d61c8a86781"
      },
      "source": [
        "# функция без аргументов\n",
        "def hello():\n",
        "    print(\"Hello, world!\")\n",
        "\n",
        "hello()\n",
        "\n",
        "def display_time():\n",
        "    import datetime\n",
        "    time = datetime.datetime.now()\n",
        "    print(\"Текущее время:\", time.strftime(\"%H:%M:%S\"))\n",
        "\n",
        "display_time()"
      ],
      "execution_count": null,
      "outputs": [
        {
          "output_type": "stream",
          "name": "stdout",
          "text": [
            "Hello, world!\n",
            "Текущее время: 18:00:56\n"
          ]
        }
      ]
    },
    {
      "cell_type": "code",
      "metadata": {
        "id": "pAR5QaUAZUCR",
        "colab": {
          "base_uri": "https://localhost:8080/"
        },
        "outputId": "60f3b1eb-7deb-42f7-fa26-8a410f548b28"
      },
      "source": [
        "# функция с позиционными аргументами\n",
        "def greet(name, age):\n",
        "    print(f\"Привет, {name}! Тебе {age} лет.\")\n",
        "\n",
        "greet(\"Алексей\", 20)\n",
        "\n",
        "def add_numbers(a, b):\n",
        "    return a + b\n",
        "\n",
        "result = add_numbers(5, 10)\n",
        "\n",
        "print(\"Сумма:\", result)"
      ],
      "execution_count": null,
      "outputs": [
        {
          "output_type": "stream",
          "name": "stdout",
          "text": [
            "Привет, Алексей! Тебе 20 лет.\n",
            "Сумма: 15\n"
          ]
        }
      ]
    },
    {
      "cell_type": "code",
      "metadata": {
        "id": "7Z8VZ1y7ZVb4",
        "colab": {
          "base_uri": "https://localhost:8080/"
        },
        "outputId": "4cd9140c-7c8b-405e-9940-ba6ac650fcf9"
      },
      "source": [
        "# функция с именованными аргументами\n",
        "def greet(name, age):\n",
        "    print(f\"Привет, {name}! Тебе {age} лет.\")\n",
        "\n",
        "greet(age=20, name=\"Алексей\")"
      ],
      "execution_count": null,
      "outputs": [
        {
          "output_type": "stream",
          "name": "stdout",
          "text": [
            "Привет, Алексей! Тебе 20 лет.\n"
          ]
        }
      ]
    },
    {
      "cell_type": "code",
      "metadata": {
        "id": "2DO_jp5JZWdi",
        "colab": {
          "base_uri": "https://localhost:8080/"
        },
        "outputId": "448b58af-28a1-4b1e-cb4a-fabe215e100b"
      },
      "source": [
        "# функция с произвольными аргументами\n",
        "def sum_numbers(*args):\n",
        "    total = sum(args)\n",
        "    return total\n",
        "result1 = sum_numbers(1, 2, 3)\n",
        "result2 = sum_numbers(4, 5, 6, 7, 8, 10)\n",
        "\n",
        "print(result1)\n",
        "print(result2)"
      ],
      "execution_count": null,
      "outputs": [
        {
          "output_type": "stream",
          "name": "stdout",
          "text": [
            "6\n",
            "40\n"
          ]
        }
      ]
    },
    {
      "cell_type": "code",
      "metadata": {
        "id": "KR0INdb2ZXA-",
        "colab": {
          "base_uri": "https://localhost:8080/"
        },
        "outputId": "b878d450-c0fb-4628-93f2-b27b36043af6"
      },
      "source": [
        "# передача функции в качестве аргумента\n",
        "def greet(name):\n",
        "    return f\"Привет, {name}!\"\n",
        "\n",
        "def process_name(function, name):\n",
        "\n",
        "    return function(name)\n",
        "\n",
        "result = process_name(greet, \"Алексей\")\n",
        "print(result)\n",
        "\n"
      ],
      "execution_count": null,
      "outputs": [
        {
          "output_type": "stream",
          "name": "stdout",
          "text": [
            "Привет, Алексей!\n"
          ]
        }
      ]
    },
    {
      "cell_type": "code",
      "metadata": {
        "id": "szOcD3icZXp3",
        "colab": {
          "base_uri": "https://localhost:8080/"
        },
        "outputId": "85684612-f5da-4dec-a1a3-bbb35eccdcc9"
      },
      "source": [
        "# вложенные функции\n",
        "def outer_function(x):\n",
        "    def inner_function(y):\n",
        "        return x + y\n",
        "    return inner_function\n",
        "\n",
        "# Создаем замыкание\n",
        "add_five = outer_function(5)\n",
        "\n",
        "# Используем вложенную функцию\n",
        "result = add_five(10)\n",
        "print(result)\n",
        "\n"
      ],
      "execution_count": null,
      "outputs": [
        {
          "output_type": "stream",
          "name": "stdout",
          "text": [
            "15\n"
          ]
        }
      ]
    },
    {
      "cell_type": "code",
      "metadata": {
        "id": "3I-ogdjyZYMi",
        "colab": {
          "base_uri": "https://localhost:8080/"
        },
        "outputId": "4672b2c8-5465-4fb8-a0f3-4fc89efea7c0"
      },
      "source": [
        "# возврат функции\n",
        "def greet(name):\n",
        "    def message():\n",
        "        return f\"Hello, {name}!\"\n",
        "    return message\n",
        "\n",
        "\n",
        "g = greet(\"Алексей\")\n",
        "\n",
        "# Вызываем возвращенную функцию\n",
        "print(g())\n",
        "\n",
        "\n"
      ],
      "execution_count": null,
      "outputs": [
        {
          "output_type": "stream",
          "name": "stdout",
          "text": [
            "Hello, Алексей!\n"
          ]
        }
      ]
    },
    {
      "cell_type": "code",
      "metadata": {
        "id": "h181P30bZlSY",
        "colab": {
          "base_uri": "https://localhost:8080/"
        },
        "outputId": "c8a48aef-fcc7-4ff8-ab6c-1e0c046a7e52"
      },
      "source": [
        "# обработка ввода данных пользователем\n",
        "def main():\n",
        "    name = input(\"Введите ваше имя: \")\n",
        "\n",
        "    try:\n",
        "        age_input = input(\"Введите ваш возраст: \")\n",
        "        age = int(age_input)  # Преобразуем строку в целое число\n",
        "        print(f\"Привет, {name}! Вам {age} лет.\")\n",
        "    except ValueError:\n",
        "        print(\"Ошибка: Пожалуйста, введите корректный возраст.\")\n",
        "\n",
        "if __name__ == \"__main__\":\n",
        "    main()"
      ],
      "execution_count": null,
      "outputs": [
        {
          "output_type": "stream",
          "name": "stdout",
          "text": [
            "Введите ваше имя: Алексей\n",
            "Введите ваш возраст: 21\n",
            "Привет, Алексей! Вам 21 лет.\n"
          ]
        }
      ]
    }
  ]
}