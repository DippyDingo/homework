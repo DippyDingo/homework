{
  "nbformat": 4,
  "nbformat_minor": 0,
  "metadata": {
    "colab": {
      "provenance": [],
      "include_colab_link": true
    },
    "kernelspec": {
      "name": "python3",
      "display_name": "Python 3"
    },
    "language_info": {
      "name": "python"
    }
  },
  "cells": [
    {
      "cell_type": "markdown",
      "metadata": {
        "id": "view-in-github",
        "colab_type": "text"
      },
      "source": [
        "<a href=\"https://colab.research.google.com/github/DippyDingo/homework/blob/main/%D0%9A%D0%BE%D0%BF%D0%B8%D1%8F_%D0%B1%D0%BB%D0%BE%D0%BA%D0%BD%D0%BE%D1%82%D0%B0_%22IteratorsAndGenerators_ipynb%22.ipynb\" target=\"_parent\"><img src=\"https://colab.research.google.com/assets/colab-badge.svg\" alt=\"Open In Colab\"/></a>"
      ]
    },
    {
      "cell_type": "code",
      "metadata": {
        "id": "y_lW0DmZZOb2",
        "colab": {
          "base_uri": "https://localhost:8080/"
        },
        "outputId": "6125a4fd-ce77-47e3-a88d-345ec8c148fa"
      },
      "source": [
        "# создание функции-генератора\n",
        "def fibonacci(n):\n",
        "    a, b = 0, 4\n",
        "    for i in range(n):\n",
        "        yield a  # Возвращаем текущее значение a\n",
        "        a, b = b, a + b  # Обновляем значения a и b\n",
        "\n",
        "# Используем генератор\n",
        "for num in fibonacci(10):\n",
        "    print(num)\n",
        "\n",
        "\n"
      ],
      "execution_count": 4,
      "outputs": [
        {
          "output_type": "stream",
          "name": "stdout",
          "text": [
            "0\n",
            "4\n",
            "4\n",
            "8\n",
            "12\n",
            "20\n",
            "32\n",
            "52\n",
            "84\n",
            "136\n"
          ]
        }
      ]
    },
    {
      "cell_type": "code",
      "metadata": {
        "id": "pAR5QaUAZUCR",
        "colab": {
          "base_uri": "https://localhost:8080/"
        },
        "outputId": "44a84dc6-a623-4425-c98c-3935bca4c80d"
      },
      "source": [
        "# создание выражения-генератора\n",
        "squares = (x**2 for x in range(10))\n",
        "\n",
        "# Используем генератор\n",
        "for square in squares:\n",
        "    print(square)\n",
        "\n",
        "\n"
      ],
      "execution_count": 1,
      "outputs": [
        {
          "output_type": "stream",
          "name": "stdout",
          "text": [
            "0\n",
            "1\n",
            "4\n",
            "9\n",
            "16\n",
            "25\n",
            "36\n",
            "49\n",
            "64\n",
            "81\n"
          ]
        }
      ]
    },
    {
      "cell_type": "code",
      "metadata": {
        "id": "7Z8VZ1y7ZVb4",
        "colab": {
          "base_uri": "https://localhost:8080/"
        },
        "outputId": "6fec50f0-9800-4481-eeec-14d14d42fdef"
      },
      "source": [
        "# создание итератора\n",
        "class MyIterator:\n",
        "    def __init__(self, max):\n",
        "        self.max = max+1\n",
        "        self.current = 0\n",
        "\n",
        "    def __iter__(self):\n",
        "        return self  # Возвращаем сам итератор\n",
        "\n",
        "    def __next__(self):\n",
        "        if self.current < self.max:\n",
        "            result = self.current\n",
        "            self.current += 1\n",
        "            return result\n",
        "        else:\n",
        "            raise StopIteration  # Завершаем итерацию\n",
        "\n",
        "# Используем итератор\n",
        "my_iter = MyIterator(10)\n",
        "\n",
        "for number in my_iter:\n",
        "    print(number)\n",
        "\n",
        "\n"
      ],
      "execution_count": 9,
      "outputs": [
        {
          "output_type": "stream",
          "name": "stdout",
          "text": [
            "0\n",
            "1\n",
            "2\n",
            "3\n",
            "4\n",
            "5\n",
            "6\n",
            "7\n",
            "8\n",
            "9\n",
            "10\n"
          ]
        }
      ]
    },
    {
      "cell_type": "code",
      "metadata": {
        "id": "2DO_jp5JZWdi",
        "colab": {
          "base_uri": "https://localhost:8080/"
        },
        "outputId": "34b740df-9b52-402c-fab4-408b274d3a49"
      },
      "source": [
        "# создание декоратора\n",
        "def my_decorator(func):\n",
        "    def wrapper():\n",
        "        print(\"Что-то происходит до вызова функции.\")\n",
        "        func()  # Вызов оригинальной функции\n",
        "        print(\"Что-то происходит после вызова функции.\")\n",
        "    return wrapper\n",
        "\n",
        "# Используем декоратор\n",
        "@my_decorator\n",
        "def say_hello():\n",
        "    print(\"Привет, я декоратор!\")\n",
        "\n",
        "# Вызов декорированной функции\n",
        "say_hello()\n",
        "\n"
      ],
      "execution_count": 6,
      "outputs": [
        {
          "output_type": "stream",
          "name": "stdout",
          "text": [
            "Что-то происходит до вызова функции.\n",
            "Привет, я декоратор!\n",
            "Что-то происходит после вызова функции.\n"
          ]
        }
      ]
    }
  ]
}