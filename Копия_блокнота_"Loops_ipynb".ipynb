{
  "nbformat": 4,
  "nbformat_minor": 0,
  "metadata": {
    "colab": {
      "provenance": [],
      "include_colab_link": true
    },
    "kernelspec": {
      "name": "python3",
      "display_name": "Python 3"
    },
    "language_info": {
      "name": "python"
    }
  },
  "cells": [
    {
      "cell_type": "markdown",
      "metadata": {
        "id": "view-in-github",
        "colab_type": "text"
      },
      "source": [
        "<a href=\"https://colab.research.google.com/github/DippyDingo/homework/blob/main/%D0%9A%D0%BE%D0%BF%D0%B8%D1%8F_%D0%B1%D0%BB%D0%BE%D0%BA%D0%BD%D0%BE%D1%82%D0%B0_%22Loops_ipynb%22.ipynb\" target=\"_parent\"><img src=\"https://colab.research.google.com/assets/colab-badge.svg\" alt=\"Open In Colab\"/></a>"
      ]
    },
    {
      "cell_type": "code",
      "metadata": {
        "id": "mZygRKn_V8nf",
        "colab": {
          "base_uri": "https://localhost:8080/"
        },
        "outputId": "61d61f97-135c-41ac-81b8-473ff27dd7ab"
      },
      "source": [
        "# условия\n",
        "\n",
        "# простое\n",
        "\n",
        "name = \"Michael\"\n",
        "if name == \"Michael\":\n",
        "  print(f\"Hello, {name}\")\n",
        "\n",
        "# с иначе\n",
        "elif name == \"Alex\":\n",
        "  print(f\"Hey,{name}\")\n",
        "\n",
        "\n",
        "# с разветвлениями\n",
        "else:\n",
        "  print(\"Who are you?\")\n",
        "\n"
      ],
      "execution_count": null,
      "outputs": [
        {
          "output_type": "stream",
          "name": "stdout",
          "text": [
            "Hello, Michael\n"
          ]
        }
      ]
    },
    {
      "cell_type": "code",
      "metadata": {
        "id": "NEzpBXJVXlvr",
        "colab": {
          "base_uri": "https://localhost:8080/"
        },
        "outputId": "a3ea0c17-c475-45ed-8732-f80b47504ebe"
      },
      "source": [
        "# арифметический цикл\n",
        "sum = 0\n",
        "for number in range(10):\n",
        "  sum += number\n",
        "\n",
        "  print(sum, end=' ')\n"
      ],
      "execution_count": null,
      "outputs": [
        {
          "output_type": "stream",
          "name": "stdout",
          "text": [
            "0 1 3 6 10 15 21 28 36 45 "
          ]
        }
      ]
    },
    {
      "cell_type": "code",
      "metadata": {
        "id": "v9pJd9wDXqBZ",
        "colab": {
          "base_uri": "https://localhost:8080/"
        },
        "outputId": "b532972a-d31d-408a-93f3-b3e3b2684544"
      },
      "source": [
        "# цикл с предусловием\n",
        "max_sum = int(input(\"Введи MAX сумму: \"))\n",
        "sum = 0\n",
        "i = 1\n",
        "\n",
        "while sum + i <= max_sum:\n",
        "  sum += i\n",
        "  i += 1\n",
        "  print(f\"Сумма чисел до {i-1} равна: {sum}\")\n",
        "print(f\"Ответ: {sum}\")"
      ],
      "execution_count": null,
      "outputs": [
        {
          "output_type": "stream",
          "name": "stdout",
          "text": [
            "Введи MAX сумму: 70\n",
            "Сумма чисел до 1 равна: 1\n",
            "Сумма чисел до 2 равна: 3\n",
            "Сумма чисел до 3 равна: 6\n",
            "Сумма чисел до 4 равна: 10\n",
            "Сумма чисел до 5 равна: 15\n",
            "Сумма чисел до 6 равна: 21\n",
            "Сумма чисел до 7 равна: 28\n",
            "Сумма чисел до 8 равна: 36\n",
            "Сумма чисел до 9 равна: 45\n",
            "Сумма чисел до 10 равна: 55\n",
            "Сумма чисел до 11 равна: 66\n",
            "Ответ: 66\n"
          ]
        }
      ]
    },
    {
      "cell_type": "code",
      "metadata": {
        "id": "Q5WbNf2AXu7A",
        "colab": {
          "base_uri": "https://localhost:8080/"
        },
        "outputId": "64b50e72-ce23-42c4-d54b-f7e812f757ed"
      },
      "source": [
        "# цикл с постусловием\n",
        "\n",
        "sum = 0\n",
        "\n",
        "while True:\n",
        "    number = int(input(\"Введите число (отрицательное для выхода): \"))\n",
        "    sum += number\n",
        "    if number < 0:\n",
        "        break\n",
        "\n",
        "print(f\"Сумма введенных чисел равна: {sum}\")\n",
        "\n",
        "\n"
      ],
      "execution_count": null,
      "outputs": [
        {
          "output_type": "stream",
          "name": "stdout",
          "text": [
            "Введите число (отрицательное для выхода): 5\n",
            "Введите число (отрицательное для выхода): 1\n",
            "Введите число (отрицательное для выхода): 50\n",
            "Введите число (отрицательное для выхода): 44\n",
            "Введите число (отрицательное для выхода): -1\n",
            "Сумма введенных чисел равна: 99\n"
          ]
        }
      ]
    }
  ]
}